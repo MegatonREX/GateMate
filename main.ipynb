{
 "cells": [
  {
   "cell_type": "code",
   "execution_count": null,
   "id": "3db3456d",
   "metadata": {},
   "outputs": [],
   "source": [
    "from ultralytics import YOLO\n",
    "import cv2\n",
    "from sort import Sort\n",
    "import numpy as np"
   ]
  },
  {
   "cell_type": "code",
   "execution_count": null,
   "id": "18d2c40f",
   "metadata": {},
   "outputs": [],
   "source": [
    "model = YOLO(\"yolov8n.pt\")\n",
    "tracker = Sort()"
   ]
  },
  {
   "cell_type": "code",
   "execution_count": 20,
   "id": "f4cb4bd7",
   "metadata": {},
   "outputs": [],
   "source": [
    "cap = cv2.VideoCapture(\"train.mp4\")\n",
    "\n",
    "while True:\n",
    "    ret, frame = cap.read()\n",
    "    if not ret:\n",
    "        print(\"Something is wrong with video or camera!\")\n",
    "        break\n",
    "\n",
    "    results = model.track(frame, persist=True, classes=[0], tracker=\"bytetrack.yaml\", verbose=False, show=False)\n",
    "    temp_frame = frame.copy()\n",
    "\n",
    "    for box in results[0].boxes:\n",
    "        class_id = int(box.cls[0])\n",
    "        if class_id == 0:\n",
    "            x1,y1,x2,y2 = map(int, box.xyxy[0])\n",
    "            conf = float(box.conf[0])\n",
    "\n",
    "        cv2.rectangle(temp_frame, (x1,y1), (x2,y2), (0,255,0), 2)\n",
    "        label = f\"Person {conf:.2f}\"\n",
    "        cv2.putText(temp_frame, label, (x1,y1-10),\n",
    "                    cv2.FONT_HERSHEY_SIMPLEX, fontScale=0.6, color=(255,255,255), thickness=2)\n",
    "        \n",
    "    height, width = frame.shape[:2]\n",
    "    cv2.line(temp_frame, (0, height // 2), (width, height // 1), (0, 0, 255), 2)\n",
    "        \n",
    "    cv2.imshow(\"track\",temp_frame)\n",
    "    if cv2.waitKey(1) & 0xFF == ord(\"q\"):\n",
    "        break\n",
    "\n",
    "cap.release()\n",
    "cv2.destroyAllWindows()\n"
   ]
  },
  {
   "cell_type": "code",
   "execution_count": null,
   "id": "dd9deeb9",
   "metadata": {},
   "outputs": [],
   "source": []
  }
 ],
 "metadata": {
  "kernelspec": {
   "display_name": ".venv",
   "language": "python",
   "name": "python3"
  },
  "language_info": {
   "codemirror_mode": {
    "name": "ipython",
    "version": 3
   },
   "file_extension": ".py",
   "mimetype": "text/x-python",
   "name": "python",
   "nbconvert_exporter": "python",
   "pygments_lexer": "ipython3",
   "version": "3.13.1"
  }
 },
 "nbformat": 4,
 "nbformat_minor": 5
}

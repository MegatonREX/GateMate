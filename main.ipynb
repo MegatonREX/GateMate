{
 "cells": [
  {
   "cell_type": "code",
   "execution_count": null,
   "id": "3db3456d",
   "metadata": {},
   "outputs": [],
   "source": [
    "from ultralytics import YOLO\n",
    "import cv2\n",
    "import numpy as np"
   ]
  },
  {
   "cell_type": "code",
   "execution_count": null,
   "id": "18d2c40f",
   "metadata": {},
   "outputs": [],
   "source": [
    "model = YOLO(\"yolov8n.pt\")"
   ]
  },
  {
   "cell_type": "code",
   "execution_count": 56,
   "id": "dd9deeb9",
   "metadata": {},
   "outputs": [],
   "source": [
    "cap = cv2.VideoCapture(\"train.mp4\")\n",
    "\n",
    "ret, frame = cap.read()\n",
    "height, width = frame.shape[:2]\n",
    "line_x = width // 2\n",
    "\n",
    "id_positions = {}           \n",
    "counted_left = set()\n",
    "counted_right = set()\n",
    "count_left = 0\n",
    "count_right = 0\n",
    "\n",
    "while True:\n",
    "    ret, frame = cap.read()\n",
    "    if not ret:\n",
    "        break\n",
    "\n",
    "    results = model.track(frame, persist=True, classes=[0], tracker=\"botsort.yaml\", verbose=False)\n",
    "\n",
    "    annotated_frame = frame.copy()\n",
    "\n",
    "    cv2.line(annotated_frame, (line_x, 0), (line_x, height), (0, 0, 255), 2)\n",
    "\n",
    "    if results[0].boxes.id is not None:\n",
    "        for box in results[0].boxes:\n",
    "            track_id = int(box.id[0])\n",
    "            x1, y1, x2, y2 = map(int, box.xyxy[0])\n",
    "            center_x = int((x1 + x2) / 2)\n",
    "            center_y = int((y1 + y2) / 2)\n",
    "\n",
    "            cv2.rectangle(annotated_frame, (x1, y1), (x2, y2), (0, 255, 0), 2)\n",
    "            cv2.putText(annotated_frame, f\"ID {track_id}\", (x1, y1 - 10),\n",
    "                        cv2.FONT_HERSHEY_SIMPLEX, 0.6, (255, 255, 255), 2)\n",
    "\n",
    "            cv2.circle(annotated_frame, (center_x, center_y), 4, (255, 0, 0), -1)\n",
    "\n",
    "            if track_id in id_positions:\n",
    "                prev_x = id_positions[track_id]\n",
    "                id_positions[track_id] = center_x\n",
    "\n",
    "                if prev_x < line_x and center_x >= line_x and track_id not in counted_right:\n",
    "                    count_right += 1\n",
    "                    counted_right.add(track_id)\n",
    "\n",
    "                if prev_x > line_x and center_x <= line_x and track_id not in counted_left:\n",
    "                    count_left += 1\n",
    "                    counted_left.add(track_id)\n",
    "\n",
    "            else:\n",
    "                id_positions[track_id] = center_x \n",
    "\n",
    "    cv2.putText(annotated_frame, f\"Left  ->  Right: {count_right}\", (200, 40),\n",
    "                cv2.FONT_HERSHEY_SIMPLEX, 0.8, (0, 255, 255), 2)\n",
    "    cv2.putText(annotated_frame, f\"Right <-  Left: {count_left}\", (200, 180),\n",
    "                cv2.FONT_HERSHEY_SIMPLEX, 0.8, (0, 255, 255), 2)\n",
    "\n",
    "    cv2.imshow(\"People Counter\", annotated_frame)\n",
    "\n",
    "    if cv2.waitKey(1) & 0xFF == ord(\"q\"):\n",
    "        break\n",
    "\n",
    "cap.release()\n",
    "cv2.destroyAllWindows()\n"
   ]
  }
 ],
 "metadata": {
  "kernelspec": {
   "display_name": ".venv",
   "language": "python",
   "name": "python3"
  },
  "language_info": {
   "codemirror_mode": {
    "name": "ipython",
    "version": 3
   },
   "file_extension": ".py",
   "mimetype": "text/x-python",
   "name": "python",
   "nbconvert_exporter": "python",
   "pygments_lexer": "ipython3",
   "version": "3.13.1"
  }
 },
 "nbformat": 4,
 "nbformat_minor": 5
}

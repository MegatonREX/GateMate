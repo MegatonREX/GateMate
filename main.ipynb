{
 "cells": [
  {
   "cell_type": "code",
   "execution_count": 2,
   "id": "3db3456d",
   "metadata": {},
   "outputs": [],
   "source": [
    "from ultralytics import YOLO\n",
    "import cv2\n",
    "import numpy as np"
   ]
  },
  {
   "cell_type": "code",
   "execution_count": 3,
   "id": "18d2c40f",
   "metadata": {},
   "outputs": [],
   "source": [
    "model = YOLO(\"yolov8n.pt\")"
   ]
  },
  {
   "cell_type": "code",
   "execution_count": 58,
   "id": "dd9deeb9",
   "metadata": {},
   "outputs": [],
   "source": [
    "cap = cv2.VideoCapture(\"train.mp4\")\n",
    "\n",
    "ret, frame = cap.read()\n",
    "height, width = frame.shape[:2]\n",
    "line_x = width // 2\n",
    "line_y = height // 2\n",
    "\n",
    "id_positions = {}           \n",
    "counted_up = set()\n",
    "counted_down = set()\n",
    "count_up = 0\n",
    "count_down = 0\n",
    "\n",
    "while True:\n",
    "    ret, frame = cap.read()\n",
    "    if not ret:\n",
    "        break\n",
    "\n",
    "    results = model.track(frame, persist=True, classes=[0], tracker=\"botsort.yaml\", verbose=False)\n",
    "\n",
    "    annotated_frame = frame.copy()\n",
    "\n",
    "    # cv2.line(annotated_frame, (line_x + 200, 0), (line_x + 200, height), (0, 0, 255), 2)\n",
    "    cv2.line(annotated_frame, (0, line_y + 150), (width, line_y + 150), (0, 0, 255), 2)\n",
    "\n",
    "    if results[0].boxes.id is not None:\n",
    "        for box in results[0].boxes:\n",
    "            track_id = int(box.id[0])\n",
    "            x1, y1, x2, y2 = map(int, box.xyxy[0])\n",
    "            center_x = int((x1 + x2) / 2)\n",
    "            center_y = int((y1 + y2) / 2)\n",
    "\n",
    "            cv2.rectangle(annotated_frame, (x1, y1), (x2, y2), (0, 255, 0), 2)\n",
    "            cv2.putText(annotated_frame, f\"ID {track_id}\", (x1, y1 - 10),\n",
    "                        cv2.FONT_HERSHEY_SIMPLEX, 0.6, (255, 255, 255), 2)\n",
    "\n",
    "            cv2.circle(annotated_frame, (center_x, center_y), 4, (255, 0, 0), -1)\n",
    "\n",
    "            if track_id in id_positions:\n",
    "                prev_y = id_positions[track_id]\n",
    "                id_positions[track_id] = center_y\n",
    "\n",
    "                if prev_y < line_y + 150 and center_y >= line_y + 150 and track_id not in counted_down:\n",
    "                    count_down += 1\n",
    "                    counted_down.add(track_id)\n",
    "\n",
    "                if prev_y > line_y + 150 and center_y <= line_y + 150 and track_id not in counted_up:\n",
    "                    count_up += 1\n",
    "                    counted_up.add(track_id)\n",
    "\n",
    "            else:\n",
    "                id_positions[track_id] = center_y \n",
    "\n",
    "    cv2.putText(annotated_frame, f\"up  ->  down: {count_down}\", (200, 40),\n",
    "                cv2.FONT_HERSHEY_SIMPLEX, 0.8, (0, 255, 255), 2)\n",
    "    cv2.putText(annotated_frame, f\"down <-  up: {count_up}\", (200, 180),\n",
    "                cv2.FONT_HERSHEY_SIMPLEX, 0.8, (0, 255, 255), 2)\n",
    "\n",
    "    cv2.imshow(\"People Counter\", annotated_frame)\n",
    "\n",
    "    if cv2.waitKey(1) & 0xFF == ord(\"q\"):\n",
    "        break\n",
    "\n",
    "cap.release()\n",
    "cv2.destroyAllWindows()\n"
   ]
  },
  {
   "cell_type": "code",
   "execution_count": null,
   "id": "6e972a24",
   "metadata": {},
   "outputs": [],
   "source": []
  }
 ],
 "metadata": {
  "kernelspec": {
   "display_name": ".venv",
   "language": "python",
   "name": "python3"
  },
  "language_info": {
   "codemirror_mode": {
    "name": "ipython",
    "version": 3
   },
   "file_extension": ".py",
   "mimetype": "text/x-python",
   "name": "python",
   "nbconvert_exporter": "python",
   "pygments_lexer": "ipython3",
   "version": "3.13.1"
  }
 },
 "nbformat": 4,
 "nbformat_minor": 5
}
